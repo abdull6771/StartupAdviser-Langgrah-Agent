{
  "nbformat": 4,
  "nbformat_minor": 0,
  "metadata": {
    "colab": {
      "provenance": [],
      "gpuType": "T4"
    },
    "kernelspec": {
      "name": "python3",
      "display_name": "Python 3"
    },
    "language_info": {
      "name": "python"
    },
    "accelerator": "GPU"
  },
  "cells": [
    {
      "cell_type": "code",
      "execution_count": null,
      "metadata": {
        "id": "wCYlNhGwAvVn"
      },
      "outputs": [],
      "source": [
        "%%capture\n",
        "!pip install langchain_openai\n",
        "!pip install gradio\n",
        "!pip install langgraph openai\n",
        "!pip install langchain-groq"
      ]
    },
    {
      "cell_type": "code",
      "source": [
        "from typing import Dict, TypedDict\n",
        "from langgraph.graph import StateGraph, END\n",
        "from langchain_core.prompts import ChatPromptTemplate\n",
        "from langchain_groq import ChatGroq\n",
        "\n",
        "from IPython.display import display, Image,Markdown\n",
        "from langchain_core.runnables.graph import MermaidDrawMethod\n",
        "import os\n",
        "os.environ[\"GROQ_API_KEY\"] = \"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\""
      ],
      "metadata": {
        "id": "M7YFW50RBCwp"
      },
      "execution_count": null,
      "outputs": []
    },
    {
      "cell_type": "code",
      "source": [
        "# llm = ChatOpenAI(model=\"gpt-4\", temperature=0)\n",
        "llm = ChatGroq(\n",
        "    model=\"mixtral-8x7b-32768\",\n",
        "    temperature=0,\n",
        "    max_tokens=None,\n",
        "    timeout=None,\n",
        "    max_retries=2,\n",
        "    # other params...\n",
        ")"
      ],
      "metadata": {
        "id": "s-d8MFsdBC3B"
      },
      "execution_count": null,
      "outputs": []
    },
    {
      "cell_type": "code",
      "source": [
        "class Startupstate(TypedDict):\n",
        "    startup_idea: str\n",
        "    market_research: str\n",
        "    business_model:str\n",
        "    financial_forecast: str\n",
        "    pitch: str\n",
        "    pitch_deck: str\n",
        "    report: str\n",
        "    legal_compliance: str"
      ],
      "metadata": {
        "id": "jHze1ACEBC54"
      },
      "execution_count": null,
      "outputs": []
    },
    {
      "cell_type": "code",
      "source": [
        "# Define market agent\n",
        "def market_research_agent(state: Startupstate):\n",
        "    \"\"\"Analyzes the market for the startup idea.\"\"\"\n",
        "    prompt = ChatPromptTemplate.from_template(\"\"\"You are an expert Market Research Agent for startups. Your task is to analyze market trends,\n",
        "    identify opportunities, and provide detailed SWOT analysis.\n",
        "    Startup Idea: {startup_idea}\n",
        "    Always provide data-backed insights with specific numbers, trends, and actionable recommendations.\n",
        "    Focus on identifying market gaps and suggesting how the startup can fill them.\"\"\")\n",
        "\n",
        "    chain = prompt | llm\n",
        "    response = chain.invoke({\"startup_idea\":  state[\"startup_idea\"]}).content\n",
        "    return {\"market_research\": response}"
      ],
      "metadata": {
        "id": "ptuR5dDMBC85"
      },
      "execution_count": null,
      "outputs": []
    },
    {
      "cell_type": "code",
      "source": [
        "def business_model_agent(state: Startupstate):\n",
        "    \"\"\"Recommends optimal business models.\"\"\"\n",
        "    prompt = ChatPromptTemplate.from_template(\"\"\"\n",
        "You are an expert Business Model Generator for startups. Your job is to recommend the optimal\n",
        "business model based on market research and startup goals.\n",
        "\n",
        "Market Research: {market_research}\n",
        "\n",
        "Always provide structured recommendations with justification for why a particular model would work.\n",
        "Reference successful companies using similar models when relevant.\"\"\")\n",
        "\n",
        "    chain = prompt | llm\n",
        "    response = chain.invoke({\"market_research\":  state[\"market_research\"]}).content\n",
        "    return {\"business_model\": response}"
      ],
      "metadata": {
        "id": "TS-hL-yUDC8h"
      },
      "execution_count": null,
      "outputs": []
    },
    {
      "cell_type": "code",
      "source": [
        "def financial_forecast_agent(state: Startupstate):\n",
        "    \"\"\"Generates financial projections and funding requirements.\"\"\"\n",
        "    prompt = ChatPromptTemplate.from_template(\"\"\"\n",
        "    You are an expert Financial Forecasting Agent for startups. Your job is to create realistic\n",
        "    financial projections based on the business model and market research.\n",
        "\n",
        "    Business Model: {business_model}\n",
        "\n",
        "    Always provide detailed breakdowns with assumptions clearly stated. Be realistic but optimistic\n",
        "    about the future.\n",
        "    \"\"\")\n",
        "\n",
        "\n",
        "    chain = prompt | llm\n",
        "    response = chain.invoke({\"business_model\":  state[\"business_model\"]}).content\n",
        "    return {\"financial_forecast\": response}\n"
      ],
      "metadata": {
        "id": "NrEF5s7PBDCt"
      },
      "execution_count": null,
      "outputs": []
    },
    {
      "cell_type": "code",
      "source": [
        "def pitch_deck_agent(state: Startupstate):\n",
        "    \"\"\"Generates a compelling pitch deck outline.\"\"\"\n",
        "    prompt = ChatPromptTemplate.from_template(\"\"\"You are an expert Pitch Deck Generator for startups. Your job is to create compelling\n",
        "    pitch deck outlines that will appeal to investors.\n",
        "\n",
        "    Financials: {financials}\n",
        "\n",
        "    Always focus on the story and value proposition. Make it concise, impactful, and visually\n",
        "    descriptive.\n",
        "    \"\"\")\n",
        "\n",
        "    chain = prompt | llm\n",
        "    response = chain.invoke({\"financials\":  state[\"financial_forecast\"]}).content\n",
        "    return {\"pitch_deck\": response}"
      ],
      "metadata": {
        "id": "2uS0GLdpBDIy"
      },
      "execution_count": null,
      "outputs": []
    },
    {
      "cell_type": "code",
      "source": [
        "def legal_compliance_agent(state: Startupstate):\n",
        "    \"\"\"Reviews legal considerations for the startup.\"\"\"\n",
        "    prompt = ChatPromptTemplate.from_template(\"\"\"You are a legal consultant. Based on the startup details, suggest business structures, IP protection strategies, and regulatory considerations.\n",
        "\n",
        "    Pitch Deck: {pitch_deck}\n",
        "\n",
        "    Provide structured insights with key observations and, if applicable, potential recommendations.\"\"\")\n",
        "\n",
        "    chain = prompt | llm\n",
        "    response = chain.invoke({\"pitch_deck\":  state[\"pitch_deck\"]}).content\n",
        "    return {\"legal_compliance\": response}\n"
      ],
      "metadata": {
        "id": "9fD-Lx9OBDL0"
      },
      "execution_count": null,
      "outputs": []
    },
    {
      "cell_type": "code",
      "source": [
        "def summary_generation_agent(state: Startupstate):\n",
        "    \"\"\"Compiles all findings into a structured startup analysis summary.\"\"\"\n",
        "    prompt = ChatPromptTemplate.from_template(\"\"\"You are a startup consultant. Compile all findings into a structured report including market research, business model, financials, pitch deck, and legal recommendations.\n",
        "\n",
        "    Market Research: {market_research}\n",
        "    Business Model: {business_model}\n",
        "    Financial Forecast: {financial_forecast}\n",
        "    Pitch Deck: {pitch_deck}\n",
        "    Legal Compliance: {legal_compliance}\n",
        "    Provide a well-organized summary for the user.\"\"\")\n",
        "\n",
        "    chain = prompt | llm\n",
        "    response = chain.invoke({\"market_research\": state[\"market_research\"],\n",
        "                             \"business_model\": state[\"business_model\"],\n",
        "                             \"financial_forecast\": state[\"financial_forecast\"],\n",
        "                             \"pitch_deck\": state[\"pitch_deck\"],\n",
        "                             \"legal_compliance\": state[\"legal_compliance\"]}).content\n",
        "    return {\"report\": response}"
      ],
      "metadata": {
        "id": "FVXcfo1ABNkf"
      },
      "execution_count": null,
      "outputs": []
    },
    {
      "cell_type": "code",
      "source": [
        "# Create workflow graph\n",
        "graph = StateGraph( Startupstate)\n",
        "graph.add_node(\"market_research_agent\", market_research_agent)\n",
        "graph.add_node(\"business_model_agent\", business_model_agent)\n",
        "graph.add_node(\"financial_forecast_agent\", financial_forecast_agent)\n",
        "graph.add_node(\"pitch_deck_agent\", pitch_deck_agent)\n",
        "graph.add_node(\"legal_compliance_agent\", legal_compliance_agent)\n",
        "graph.add_node(\"summary_generation_agent\", summary_generation_agent)\n",
        "graph.set_entry_point(\"market_research_agent\")\n",
        "\n",
        "graph.add_edge(\"market_research_agent\", \"business_model_agent\")\n",
        "graph.add_edge(\"business_model_agent\", \"financial_forecast_agent\")\n",
        "graph.add_edge(\"financial_forecast_agent\", \"pitch_deck_agent\")\n",
        "graph.add_edge(\"pitch_deck_agent\", \"legal_compliance_agent\")\n",
        "graph.add_edge(\"legal_compliance_agent\", \"summary_generation_agent\")\n",
        "graph.add_edge(\"summary_generation_agent\",  END)\n",
        "\n",
        "# Compile the graph\n",
        "graph = graph.compile()"
      ],
      "metadata": {
        "id": "nivZJaGHBYsU"
      },
      "execution_count": null,
      "outputs": []
    },
    {
      "cell_type": "code",
      "source": [
        "display(\n",
        "    Image(\n",
        "        graph.get_graph().draw_mermaid_png(\n",
        "            draw_method=MermaidDrawMethod.API,\n",
        "        )\n",
        "    )\n",
        ")"
      ],
      "metadata": {
        "colab": {
          "base_uri": "https://localhost:8080/",
          "height": 747
        },
        "id": "vRiAODtQDMIs",
        "outputId": "24b77926-adf9-46ca-c993-f296a8ee9ce2"
      },
      "execution_count": null,
      "outputs": [
        {
          "output_type": "display_data",
          "data": {
            "image/png": "[encoded data removed]",
            "text/plain": [
              "<IPython.core.display.Image object>"
            ]
          },
          "metadata": {}
        }
      ]
    },
    {
      "cell_type": "code",
      "source": [
        "startup_idea = \"A SaaS platform to help restaurants reduce food waste\""
      ],
      "metadata": {
        "id": "rt-G6RoeErLY"
      },
      "execution_count": null,
      "outputs": []
    },
    {
      "cell_type": "code",
      "source": [
        "result = graph.invoke({\"startup_idea\": startup_idea})"
      ],
      "metadata": {
        "id": "GuqDCCw-E5q0"
      },
      "execution_count": null,
      "outputs": []
    },
    {
      "cell_type": "code",
      "source": [
        "result"
      ],
      "metadata": {
        "colab": {
          "base_uri": "https://localhost:8080/"
        },
        "id": "4ToMWqA7FEHV",
        "outputId": "7c8d22b8-129b-4e52-f3ec-ce2d9ef0f88e"
      },
      "execution_count": null,
      "outputs": [
        {
          "output_type": "execute_result",
          "data": {
            "text/plain": [
              "{'startup_idea': 'A SaaS platform to help restaurants reduce food waste',\n",
              " 'market_research': \"Sure, I'd be happy to help! Here's a data-backed analysis of the market trends, opportunities, and a SWOT analysis for a SaaS platform that helps restaurants reduce food waste:\\n\\nMarket Trends:\\n\\n* According to a report by ReFED, a nonprofit organization focused on reducing food waste, the U.S. restaurant industry generates 11.4 million tons of food waste annually, costing an estimated $25 billion.\\n* Consumers are becoming increasingly environmentally conscious, and are more likely to support businesses that prioritize sustainability. A survey by Nielsen found that 73% of global consumers are willing to change their purchasing habits to reduce their environmental impact.\\n* The COVID-19 pandemic has had a significant impact on the restaurant industry, with many establishments closing temporarily or permanently. This has led to an increase in food waste, as restaurants are unable to sell or donate excess food.\\n\\nMarket Opportunities:\\n\\n* There is a clear market gap for a SaaS platform that helps restaurants reduce food waste. By providing restaurants with tools to track and manage their food waste, the startup can help them save money and improve their sustainability efforts.\\n* The growing trend of consumers prioritizing sustainability presents an opportunity for the startup to differentiate itself from competitors and attract environmentally conscious customers.\\n* The COVID-19 pandemic has created a need for restaurants to find new ways to manage their operations, including reducing food waste. The startup can position itself as a solution to this problem.\\n\\nSWOT Analysis:\\n\\nStrengths:\\n\\n* The startup addresses a significant market need, with the potential to save restaurants money and improve their sustainability efforts.\\n* The SaaS platform can be easily scaled and adapted to different restaurant sizes and types.\\n* The startup can differentiate itself from competitors by focusing on sustainability and providing data-driven insights.\\n\\nWeaknesses:\\n\\n* The startup may face competition from existing waste management companies and other startups.\\n* Restaurants may be hesitant to adopt new technology, particularly if they are already struggling financially due to the pandemic.\\n* The startup may face challenges in convincing restaurants to prioritize food waste reduction over other operational concerns.\\n\\nOpportunities:\\n\\n* The startup can leverage the growing trend of consumers prioritizing sustainability to attract customers.\\n* The COVID-19 pandemic has created a need for restaurants to find new ways to manage their operations, including reducing food waste.\\n* The startup can partner with waste management companies and other organizations to expand its reach and impact.\\n\\nThreats:\\n\\n* The startup may face competition from established waste management companies and other startups.\\n* Changes in consumer behavior or economic conditions could impact the restaurant industry and the startup's potential market.\\n* The startup may face regulatory challenges in different regions, particularly if it expands internationally.\\n\\nActionable Recommendations:\\n\\n* The startup should focus on differentiating itself from competitors by emphasizing its sustainability focus and data-driven insights.\\n* The startup should target restaurants that are already prioritizing sustainability and are looking for ways to reduce their food waste.\\n* The startup should consider partnering with waste management companies and other organizations to expand its reach and impact.\\n* The startup should provide case studies and other data to demonstrate the potential cost savings and sustainability benefits of its platform.\\n* The startup should consider offering a free trial or other incentives to encourage restaurants to try its platform.\\n\\nI hope this analysis is helpful in informing your startup idea! Let me know if you have any further questions.\",\n",
              " 'business_model': 'Based on the market research provided, I would recommend the Freemium Business Model for this SaaS platform that helps restaurants reduce food waste.\\n\\nJustification:\\n\\n1. Large Market Opportunity: With the U.S. restaurant industry generating 11.4 million tons of food waste annually, there is a significant market opportunity for this startup. By offering a free version of the platform, the startup can attract a large user base and then upsell them to the premium version.\\n2. Overcoming Competition: The Freemium Business Model can help the startup differentiate itself from competitors by providing a free version of the platform. This can help the startup gain market share and build brand awareness, even if it faces competition from established waste management companies and other startups.\\n3. Consumer Preference for Sustainability: The growing trend of consumers prioritizing sustainability presents an opportunity for the startup to attract customers. By offering a free version of the platform, the startup can appeal to environmentally conscious consumers who may be hesitant to pay for a new technology.\\n4. Scalability: The Freemium Business Model is highly scalable, as the startup can acquire a large user base without incurring significant costs. This can help the startup expand its reach and impact, particularly as it targets different restaurant sizes and types.\\n5. Successful Precedents: The Freemium Business Model has been successful for other SaaS companies, such as Dropbox and Slack. By offering a free version of the platform, these companies were able to acquire a large user base and then upsell them to the premium version.\\n\\nActionable Recommendations:\\n\\n1. Offer a Free Version: The startup should offer a free version of the platform that includes basic features, such as food waste tracking and management. This can help the startup attract a large user base and build brand awareness.\\n2. Upsell to Premium Version: The startup should upsell users to the premium version of the platform, which includes advanced features, such as data-driven insights and customized recommendations. This can help the startup generate revenue and increase its impact.\\n3. Provide Clear Value Proposition: The startup should clearly communicate the value proposition of the premium version of the platform, such as cost savings and sustainability benefits. This can help the startup convince restaurants to upgrade to the premium version.\\n4. Offer Incentives for Upgrading: The startup should offer incentives for upgrading to the premium version, such as discounts or additional features. This can help the startup encourage users to upgrade and increase its revenue.\\n5. Monitor User Behavior: The startup should monitor user behavior and feedback to continuously improve the platform and the user experience. This can help the startup optimize its Freemium Business Model and increase its impact.',\n",
              " 'financial_forecast': 'Based on the business model and justification provided, I will create financial projections for the SaaS platform that helps restaurants reduce food waste using the Freemium Business Model. The projections will cover a three-year period, from 2023 to 2025.\\n\\nAssumptions:\\n\\n1. The startup will acquire 10,000 users in the first year, 20,000 users in the second year, and 30,000 users in the third year.\\n2. The conversion rate from free to premium users will be 10% in the first year, 15% in the second year, and 20% in the third year.\\n3. The average revenue per premium user will be $50 per month.\\n4. The monthly operating costs will be $20,000 in the first year, $30,000 in the second year, and $40,000 in the third year.\\n5. The initial investment will be $100,000.\\n\\nRevenue:\\n\\n1. Free Users: The number of free users will increase from 10,000 in the first year to 30,000 in the third year. Although free users do not generate revenue, they help build brand awareness and create a larger user base for upselling.\\n2. Premium Users: The number of premium users will increase from 1,000 in the first year to 6,000 in the third year. The revenue from premium users will increase from $60,000 in the first year to $360,000 in the third year.\\n3. Total Revenue: The total revenue will increase from $60,000 in the first year to $396,000 in the third year.\\n\\nOperating Costs:\\n\\n1. The monthly operating costs will increase from $20,000 in the first year to $40,000 in the third year.\\n2. The total operating costs will be $240,000 in the first year, $360,000 in the second year, and $480,000 in the third year.\\n\\nNet Income:\\n\\n1. The net income will be -$140,000 in the first year, -$60,000 in the second year, and $116,000 in the third year.\\n\\nCash Flow:\\n\\n1. The initial investment of $100,000 will be used to cover the operating costs in the first year.\\n2. The positive cash flow in the second and third years will be used to reinvest in the business and increase its impact.\\n\\nOverall, the financial projections for the SaaS platform that helps restaurants reduce food waste using the Freemium Business Model are optimistic but realistic. The startup can expect to acquire a large user base, generate revenue from premium users, and become profitable in the third year. However, the startup should continuously monitor user behavior and feedback to optimize its business model and increase its impact.',\n",
              " 'pitch_deck': \"Sure, I'd be happy to help you create a pitch deck outline for your SaaS platform that helps restaurants reduce food waste using the Freemium Business Model. Here's a suggested outline that focuses on the story and value proposition, while also including the financial projections you provided:\\n\\nSlide 1: Introduction\\n\\n* Company name and logo\\n* Tagline or mission statement\\n* Founder(s) names and roles\\n\\nSlide 2: Problem\\n\\n* Describe the problem of food waste in the restaurant industry\\n* Share statistics or facts that highlight the severity of the problem\\n* Explain how this problem affects restaurants, consumers, and the environment\\n\\nSlide 3: Solution\\n\\n* Introduce your SaaS platform as a solution to the food waste problem\\n* Explain how your platform helps restaurants reduce food waste and save money\\n* Highlight the key features and benefits of your platform\\n\\nSlide 4: Market Size\\n\\n* Provide data on the size of the restaurant industry and the potential market for your platform\\n* Explain how your platform fits into this market and why it has growth potential\\n\\nSlide 5: Business Model\\n\\n* Describe your Freemium Business Model and how it works\\n* Explain how you plan to acquire users and convert them into premium users\\n* Share your revenue and operating cost projections for the first three years\\n\\nSlide 6: Traction\\n\\n* Share any data or metrics that demonstrate your progress so far\\n* Explain how you plan to continue growing your user base and revenue\\n\\nSlide 7: Team\\n\\n* Introduce your team members and their relevant experience\\n* Explain why your team is uniquely qualified to solve the food waste problem\\n\\nSlide 8: Ask\\n\\n* Clearly state what you are asking from investors\\n* Explain how the investment will be used to grow your platform and increase its impact\\n\\nSlide 9: Financials\\n\\n* Share your revenue, operating cost, and net income projections for the first three years\\n* Explain how your financials support your ask and your long-term vision\\n\\nSlide 10: Conclusion\\n\\n* Summarize the key points of your pitch\\n* Reinforce the value proposition and impact of your platform\\n* Thank the investors for their time and consideration\\n\\nRemember to keep your pitch deck concise, impactful, and visually descriptive. Use clear and compelling language, and focus on the story and value proposition of your platform. Good luck with your pitch!\",\n",
              " 'report': \"Sure, here's a summary of the findings and recommendations for your SaaS platform that helps restaurants reduce food waste:\\n\\nMarket Research:\\n\\n* The U.S. restaurant industry generates 11.4 million tons of food waste annually, costing an estimated $25 billion.\\n* Consumers are becoming increasingly environmentally conscious and are more likely to support businesses that prioritize sustainability.\\n* The COVID-19 pandemic has had a significant impact on the restaurant industry, leading to an increase in food waste.\\n* There is a clear market gap for a SaaS platform that helps restaurants reduce food waste.\\n\\nBusiness Model:\\n\\n* The Freemium Business Model is recommended for this startup, as it allows for a large user base and scalability.\\n* The startup can offer a free version of the platform with basic features, and upsell users to the premium version with advanced features.\\n\\nFinancial Forecast:\\n\\n* The financial projections for the first three years are optimistic but realistic, with the startup becoming profitable in the third year.\\n* The initial investment of $100,000 will be used to cover the operating costs in the first year.\\n\\nPitch Deck:\\n\\n* The pitch deck should focus on the story and value proposition of the platform, while also including the financial projections.\\n* The pitch deck should be concise, impactful, and visually descriptive.\\n\\nLegal Compliance:\\n\\n* The startup should consider forming an LLC or a C Corporation, depending on its needs and goals.\\n* The startup should consider filing for patents, trademarks, and copyrights to protect its intellectual property.\\n* The startup should ensure compliance with relevant regulations, such as data privacy, food safety, and advertising.\\n\\nOverall, the market research, business model, financial forecast, pitch deck, and legal compliance recommendations provide a structured report for your SaaS platform that helps restaurants reduce food waste. By following these recommendations, the startup can increase its chances of success and impact in the market.\",\n",
              " 'legal_compliance': \"Based on the startup details provided, here are some structured insights on business structures, IP protection strategies, and regulatory considerations:\\n\\nBusiness Structures:\\n\\n* Limited Liability Company (LLC): An LLC is a popular choice for startups because it provides personal liability protection for the founders while also being relatively easy to set up and maintain. An LLC can also provide tax benefits, as it allows for pass-through taxation, meaning the company's profits and losses are reported on the founders' personal tax returns.\\n* C Corporation: A C Corporation is a separate legal entity from its founders, providing strong personal liability protection. This structure is often chosen by startups that plan to seek venture capital funding, as it allows for an unlimited number of shareholders and the ability to issue multiple classes of stock. However, C Corporations are subject to double taxation, meaning the company's profits are taxed at the corporate level and then again at the individual level when distributed as dividends.\\n\\nIP Protection Strategies:\\n\\n* Patents: If your SaaS platform includes any unique technology or processes, consider filing for a patent to protect your intellectual property. Patents can provide up to 20 years of exclusive rights to your invention, preventing others from using, selling, or manufacturing it without your permission.\\n* Trademarks: Trademarks can be used to protect your company's name, logo, and slogan. Registering a trademark can provide legal protection against others using similar marks, helping to establish brand recognition and reputation.\\n* Copyrights: Copyrights can be used to protect original works of authorship, such as software code, website content, and marketing materials. Registering a copyright can provide legal evidence of ownership and the right to sue for infringement.\\n\\nRegulatory Considerations:\\n\\n* Data Privacy: If your SaaS platform collects or stores personal data from users, you may be subject to data privacy regulations such as the General Data Protection Regulation (GDPR) or the California Consumer Privacy Act (CCPA). Compliance with these regulations may require implementing specific data protection measures and providing users with certain rights regarding their data.\\n* Food Safety: If your platform provides recommendations or guidance on food preparation or handling, you may be subject to food safety regulations. Compliance with these regulations may require obtaining necessary certifications and following specific food safety protocols.\\n* Advertising: If your platform includes any advertising or promotional materials, you may be subject to advertising regulations. Compliance with these regulations may require avoiding false or misleading claims and providing clear and conspicuous disclosures.\\n\\nOverall, it's important to consult with a legal professional to ensure that your startup is properly structured, protected, and compliant with relevant regulations.\"}"
            ]
          },
          "metadata": {},
          "execution_count": 14
        }
      ]
    },
    {
      "cell_type": "code",
      "source": [
        "Markdown(result[\"report\"])"
      ],
      "metadata": {
        "colab": {
          "base_uri": "https://localhost:8080/",
          "height": 459
        },
        "id": "k3hhIwWJHyxB",
        "outputId": "71565d48-1047-4e32-eb81-3b458d3f07b1"
      },
      "execution_count": null,
      "outputs": [
        {
          "output_type": "execute_result",
          "data": {
            "text/plain": [
              "<IPython.core.display.Markdown object>"
            ],
            "text/markdown": "Sure, here's a summary of the findings and recommendations for your SaaS platform that helps restaurants reduce food waste:\n\nMarket Research:\n\n* The U.S. restaurant industry generates 11.4 million tons of food waste annually, costing an estimated $25 billion.\n* Consumers are becoming increasingly environmentally conscious and are more likely to support businesses that prioritize sustainability.\n* The COVID-19 pandemic has had a significant impact on the restaurant industry, leading to an increase in food waste.\n* There is a clear market gap for a SaaS platform that helps restaurants reduce food waste.\n\nBusiness Model:\n\n* The Freemium Business Model is recommended for this startup, as it allows for a large user base and scalability.\n* The startup can offer a free version of the platform with basic features, and upsell users to the premium version with advanced features.\n\nFinancial Forecast:\n\n* The financial projections for the first three years are optimistic but realistic, with the startup becoming profitable in the third year.\n* The initial investment of $100,000 will be used to cover the operating costs in the first year.\n\nPitch Deck:\n\n* The pitch deck should focus on the story and value proposition of the platform, while also including the financial projections.\n* The pitch deck should be concise, impactful, and visually descriptive.\n\nLegal Compliance:\n\n* The startup should consider forming an LLC or a C Corporation, depending on its needs and goals.\n* The startup should consider filing for patents, trademarks, and copyrights to protect its intellectual property.\n* The startup should ensure compliance with relevant regulations, such as data privacy, food safety, and advertising.\n\nOverall, the market research, business model, financial forecast, pitch deck, and legal compliance recommendations provide a structured report for your SaaS platform that helps restaurants reduce food waste. By following these recommendations, the startup can increase its chances of success and impact in the market."
          },
          "metadata": {},
          "execution_count": 15
        }
      ]
    },
    {
      "cell_type": "code",
      "source": [
        "Markdown(result[\"legal_compliance\"])"
      ],
      "metadata": {
        "colab": {
          "base_uri": "https://localhost:8080/",
          "height": 505
        },
        "id": "L__H3pZvH3GE",
        "outputId": "71fd9840-abe1-47d3-f2bc-d5ef074d6be9"
      },
      "execution_count": null,
      "outputs": [
        {
          "output_type": "execute_result",
          "data": {
            "text/plain": [
              "<IPython.core.display.Markdown object>"
            ],
            "text/markdown": "Based on the startup details provided, here are some structured insights on business structures, IP protection strategies, and regulatory considerations:\n\nBusiness Structures:\n\n* Limited Liability Company (LLC): An LLC is a popular choice for startups because it provides personal liability protection for the founders while also being relatively easy to set up and maintain. An LLC can also provide tax benefits, as it allows for pass-through taxation, meaning the company's profits and losses are reported on the founders' personal tax returns.\n* C Corporation: A C Corporation is a separate legal entity from its founders, providing strong personal liability protection. This structure is often chosen by startups that plan to seek venture capital funding, as it allows for an unlimited number of shareholders and the ability to issue multiple classes of stock. However, C Corporations are subject to double taxation, meaning the company's profits are taxed at the corporate level and then again at the individual level when distributed as dividends.\n\nIP Protection Strategies:\n\n* Patents: If your SaaS platform includes any unique technology or processes, consider filing for a patent to protect your intellectual property. Patents can provide up to 20 years of exclusive rights to your invention, preventing others from using, selling, or manufacturing it without your permission.\n* Trademarks: Trademarks can be used to protect your company's name, logo, and slogan. Registering a trademark can provide legal protection against others using similar marks, helping to establish brand recognition and reputation.\n* Copyrights: Copyrights can be used to protect original works of authorship, such as software code, website content, and marketing materials. Registering a copyright can provide legal evidence of ownership and the right to sue for infringement.\n\nRegulatory Considerations:\n\n* Data Privacy: If your SaaS platform collects or stores personal data from users, you may be subject to data privacy regulations such as the General Data Protection Regulation (GDPR) or the California Consumer Privacy Act (CCPA). Compliance with these regulations may require implementing specific data protection measures and providing users with certain rights regarding their data.\n* Food Safety: If your platform provides recommendations or guidance on food preparation or handling, you may be subject to food safety regulations. Compliance with these regulations may require obtaining necessary certifications and following specific food safety protocols.\n* Advertising: If your platform includes any advertising or promotional materials, you may be subject to advertising regulations. Compliance with these regulations may require avoiding false or misleading claims and providing clear and conspicuous disclosures.\n\nOverall, it's important to consult with a legal professional to ensure that your startup is properly structured, protected, and compliant with relevant regulations."
          },
          "metadata": {},
          "execution_count": 16
        }
      ]
    },
    {
      "cell_type": "code",
      "source": [
        "Markdown(result[\"business_model\"])"
      ],
      "metadata": {
        "colab": {
          "base_uri": "https://localhost:8080/",
          "height": 501
        },
        "id": "2kQJwr-CK4Jn",
        "outputId": "9986620a-5af5-4424-a28d-3c3bd9f67f70"
      },
      "execution_count": null,
      "outputs": [
        {
          "output_type": "execute_result",
          "data": {
            "text/plain": [
              "<IPython.core.display.Markdown object>"
            ],
            "text/markdown": "Based on the market research provided, I would recommend the Freemium Business Model for this SaaS platform that helps restaurants reduce food waste.\n\nJustification:\n\n1. Large Market Opportunity: With the U.S. restaurant industry generating 11.4 million tons of food waste annually, there is a significant market opportunity for this startup. By offering a free version of the platform, the startup can attract a large user base and then upsell them to the premium version.\n2. Overcoming Competition: The Freemium Business Model can help the startup differentiate itself from competitors by providing a free version of the platform. This can help the startup gain market share and build brand awareness, even if it faces competition from established waste management companies and other startups.\n3. Consumer Preference for Sustainability: The growing trend of consumers prioritizing sustainability presents an opportunity for the startup to attract customers. By offering a free version of the platform, the startup can appeal to environmentally conscious consumers who may be hesitant to pay for a new technology.\n4. Scalability: The Freemium Business Model is highly scalable, as the startup can acquire a large user base without incurring significant costs. This can help the startup expand its reach and impact, particularly as it targets different restaurant sizes and types.\n5. Successful Precedents: The Freemium Business Model has been successful for other SaaS companies, such as Dropbox and Slack. By offering a free version of the platform, these companies were able to acquire a large user base and then upsell them to the premium version.\n\nActionable Recommendations:\n\n1. Offer a Free Version: The startup should offer a free version of the platform that includes basic features, such as food waste tracking and management. This can help the startup attract a large user base and build brand awareness.\n2. Upsell to Premium Version: The startup should upsell users to the premium version of the platform, which includes advanced features, such as data-driven insights and customized recommendations. This can help the startup generate revenue and increase its impact.\n3. Provide Clear Value Proposition: The startup should clearly communicate the value proposition of the premium version of the platform, such as cost savings and sustainability benefits. This can help the startup convince restaurants to upgrade to the premium version.\n4. Offer Incentives for Upgrading: The startup should offer incentives for upgrading to the premium version, such as discounts or additional features. This can help the startup encourage users to upgrade and increase its revenue.\n5. Monitor User Behavior: The startup should monitor user behavior and feedback to continuously improve the platform and the user experience. This can help the startup optimize its Freemium Business Model and increase its impact."
          },
          "metadata": {},
          "execution_count": 84
        }
      ]
    },
    {
      "cell_type": "code",
      "source": [
        "%%capture\n",
        "!pip install reportlab"
      ],
      "metadata": {
        "id": "KgHdJ4L-2DOU"
      },
      "execution_count": null,
      "outputs": []
    },
    {
      "cell_type": "code",
      "source": [
        "import gradio as gr\n",
        "import tempfile\n",
        "import os\n",
        "from reportlab.lib.pagesizes import letter\n",
        "from reportlab.platypus import SimpleDocTemplate, Paragraph, Spacer\n",
        "from reportlab.lib.styles import getSampleStyleSheet, ParagraphStyle\n",
        "from reportlab.lib.enums import TA_CENTER, TA_JUSTIFY\n",
        "from reportlab.pdfbase import pdfmetrics\n",
        "from reportlab.pdfbase.ttfonts import TTFont\n",
        "from reportlab.lib import colors\n",
        "\n",
        "def agent_interface(user_input):\n",
        "    \"\"\"Process user input through the LangGraph agent workflow.\"\"\"\n",
        "    try:\n",
        "        inputs = {\"startup_idea\": user_input}\n",
        "        result = graph.invoke(inputs)\n",
        "        # Extract key responses\n",
        "        output_keys = [\n",
        "            \"market_research\", \"business_model\", \"financial_forecast\",\n",
        "            \"pitch_deck\", \"legal_compliance\", \"report\"\n",
        "        ]\n",
        "        outputs = {key: result.get(key, \"No data available.\") for key in output_keys}\n",
        "        # Generate report file\n",
        "        file_path = generate_pdf_report(user_input, outputs)\n",
        "        return (*outputs.values(), file_path)  # Return all outputs + file path\n",
        "    except Exception as e:\n",
        "        error_msg = f\"Error: {str(e)}\"\n",
        "        return [error_msg] * 6 + [None]  # Last output is file, so return None\n",
        "\n",
        "def generate_pdf_report(user_input, outputs):\n",
        "    \"\"\"Creates a downloadable PDF report file.\"\"\"\n",
        "    # Save as a temporary PDF file\n",
        "    temp_dir = tempfile.gettempdir()\n",
        "    file_path = os.path.join(temp_dir, \"startup_report.pdf\")\n",
        "\n",
        "    # Create PDF document\n",
        "    doc = SimpleDocTemplate(file_path, pagesize=letter)\n",
        "    styles = getSampleStyleSheet()\n",
        "\n",
        "    # Create custom styles\n",
        "    title_style = ParagraphStyle(\n",
        "        'TitleStyle',\n",
        "        parent=styles['Heading1'],\n",
        "        alignment=TA_CENTER,\n",
        "        textColor=colors.darkblue,\n",
        "        fontSize=16,\n",
        "        spaceAfter=12\n",
        "    )\n",
        "\n",
        "    subtitle_style = ParagraphStyle(\n",
        "        'SubTitleStyle',\n",
        "        parent=styles['Heading2'],\n",
        "        textColor=colors.darkblue,\n",
        "        fontSize=14,\n",
        "        spaceAfter=10\n",
        "    )\n",
        "\n",
        "    # Create justified text style for content\n",
        "    justified_style = ParagraphStyle(\n",
        "        'JustifiedStyle',\n",
        "        parent=styles['Normal'],\n",
        "        alignment=TA_JUSTIFY,\n",
        "        spaceAfter=6\n",
        "    )\n",
        "\n",
        "    footer_style = ParagraphStyle(\n",
        "        'FooterStyle',\n",
        "        parent=styles['Normal'],\n",
        "        alignment=TA_CENTER,\n",
        "        textColor=colors.darkgrey,\n",
        "        fontSize=8\n",
        "    )\n",
        "\n",
        "    # Build content\n",
        "    content = []\n",
        "\n",
        "    # Add title\n",
        "    content.append(Paragraph(\"Nafabat.AI Startup Agent Using LangGraph\", title_style))\n",
        "    content.append(Spacer(1, 12))\n",
        "\n",
        "    # Add report content sections\n",
        "    content.append(Paragraph(\"Startup Idea Report\", subtitle_style))\n",
        "    content.append(Spacer(1, 6))\n",
        "\n",
        "    content.append(Paragraph(\"<b>User Input:</b>\", styles[\"Heading3\"]))\n",
        "    content.append(Paragraph(user_input, justified_style))\n",
        "    content.append(Spacer(1, 10))\n",
        "\n",
        "    content.append(Paragraph(\"<b>Market Research:</b>\", styles[\"Heading3\"]))\n",
        "    content.append(Paragraph(outputs['market_research'], justified_style))\n",
        "    content.append(Spacer(1, 10))\n",
        "\n",
        "    content.append(Paragraph(\"<b>Business Model:</b>\", styles[\"Heading3\"]))\n",
        "    content.append(Paragraph(outputs['business_model'], justified_style))\n",
        "    content.append(Spacer(1, 10))\n",
        "\n",
        "    content.append(Paragraph(\"<b>Financial Forecast:</b>\", styles[\"Heading3\"]))\n",
        "    content.append(Paragraph(outputs['financial_forecast'], justified_style))\n",
        "    content.append(Spacer(1, 10))\n",
        "\n",
        "    content.append(Paragraph(\"<b>Pitch Deck:</b>\", styles[\"Heading3\"]))\n",
        "    content.append(Paragraph(outputs['pitch_deck'], justified_style))\n",
        "    content.append(Spacer(1, 10))\n",
        "\n",
        "    content.append(Paragraph(\"<b>Legal Compliance:</b>\", styles[\"Heading3\"]))\n",
        "    content.append(Paragraph(outputs['legal_compliance'], justified_style))\n",
        "    content.append(Spacer(1, 10))\n",
        "\n",
        "    content.append(Paragraph(\"<b>Final Report:</b>\", styles[\"Heading3\"]))\n",
        "    content.append(Paragraph(outputs['report'], justified_style))\n",
        "    content.append(Spacer(1, 20))\n",
        "\n",
        "    # Add footer\n",
        "    content.append(Paragraph(\"Created by Abdullahi Ahmad\", footer_style))\n",
        "\n",
        "    # Build the PDF\n",
        "    doc.build(content)\n",
        "\n",
        "    return file_path\n",
        "\n",
        "# Create Gradio Interface\n",
        "demo = gr.Interface(\n",
        "    fn=agent_interface,\n",
        "    inputs=gr.Textbox(\n",
        "        lines=5,\n",
        "        placeholder=\"Describe your startup idea, including its industry and key features...\"\n",
        "    ),\n",
        "    outputs=[\n",
        "        gr.Textbox(lines=6, label=\"Market Research\"),\n",
        "        gr.Textbox(lines=6, label=\"Business Model\"),\n",
        "        gr.Textbox(lines=6, label=\"Financial Forecast\"),\n",
        "        gr.Textbox(lines=6, label=\"Pitch Deck\"),\n",
        "        gr.Textbox(lines=6, label=\"Legal Compliance\"),\n",
        "        gr.Textbox(lines=6, label=\"Report\"),\n",
        "        gr.File(label=\"Download Report\")  # Adds a file output\n",
        "    ],\n",
        "    title=\"Startup Adviser\",\n",
        "    description=\"### Get AI-driven insights to refine your startup idea. 🚀\\nEnter a brief description of your business concept and receive structured feedback.\",\n",
        ")\n",
        "\n",
        "if __name__ == \"__main__\":\n",
        "    demo.launch()"
      ],
      "metadata": {
        "colab": {
          "base_uri": "https://localhost:8080/",
          "height": 643
        },
        "id": "s91Z-VEx36y4",
        "outputId": "062ca46e-d03d-4f42-b9c9-fc5404e581cb"
      },
      "execution_count": null,
      "outputs": [
        {
          "output_type": "stream",
          "name": "stdout",
          "text": [
            "Running Gradio in a Colab notebook requires sharing enabled. Automatically setting `share=True` (you can turn this off by setting `share=False` in `launch()` explicitly).\n",
            "\n",
            "Colab notebook detected. To show errors in colab notebook, set debug=True in launch()\n",
            "* Running on public URL: https://5061924daec63fcb2a.gradio.live\n",
            "\n",
            "This share link expires in 72 hours. For free permanent hosting and GPU upgrades, run `gradio deploy` from the terminal in the working directory to deploy to Hugging Face Spaces (https://huggingface.co/spaces)\n"
          ]
        },
        {
          "output_type": "display_data",
          "data": {
            "text/plain": [
              "<IPython.core.display.HTML object>"
            ],
            "text/html": [
              "<div><iframe src=\"https://5061924daec63fcb2a.gradio.live\" width=\"100%\" height=\"500\" allow=\"autoplay; camera; microphone; clipboard-read; clipboard-write;\" frameborder=\"0\" allowfullscreen></iframe></div>"
            ]
          },
          "metadata": {}
        }
      ]
    },
    {
      "cell_type": "code",
      "source": [],
      "metadata": {
        "id": "cseZsQEk4Doz"
      },
      "execution_count": null,
      "outputs": []
    }
  ]
}